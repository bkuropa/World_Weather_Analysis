{
 "cells": [
  {
   "cell_type": "code",
   "execution_count": 1,
   "metadata": {},
   "outputs": [],
   "source": [
    "# Import the dependencies.\n",
    "import pandas as pd\n",
    "import gmaps\n",
    "import googlemaps\n",
    "import requests\n",
    "# Import the API key.\n",
    "from config2 import g_key\n"
   ]
  },
  {
   "cell_type": "code",
   "execution_count": 26,
   "metadata": {},
   "outputs": [
    {
     "data": {
      "text/html": [
       "<div>\n",
       "<style scoped>\n",
       "    .dataframe tbody tr th:only-of-type {\n",
       "        vertical-align: middle;\n",
       "    }\n",
       "\n",
       "    .dataframe tbody tr th {\n",
       "        vertical-align: top;\n",
       "    }\n",
       "\n",
       "    .dataframe thead th {\n",
       "        text-align: right;\n",
       "    }\n",
       "</style>\n",
       "<table border=\"1\" class=\"dataframe\">\n",
       "  <thead>\n",
       "    <tr style=\"text-align: right;\">\n",
       "      <th></th>\n",
       "      <th>City_ID</th>\n",
       "      <th>City</th>\n",
       "      <th>Country</th>\n",
       "      <th>Date</th>\n",
       "      <th>Lat</th>\n",
       "      <th>Lng</th>\n",
       "      <th>Max Temp</th>\n",
       "      <th>Humidity</th>\n",
       "      <th>Cloudiness</th>\n",
       "      <th>Wind Speed</th>\n",
       "    </tr>\n",
       "  </thead>\n",
       "  <tbody>\n",
       "    <tr>\n",
       "      <th>0</th>\n",
       "      <td>0</td>\n",
       "      <td>Dikson</td>\n",
       "      <td>RU</td>\n",
       "      <td>2022-02-11 17:29:32</td>\n",
       "      <td>73.51</td>\n",
       "      <td>80.55</td>\n",
       "      <td>258.16</td>\n",
       "      <td>90</td>\n",
       "      <td>100</td>\n",
       "      <td>11.91</td>\n",
       "    </tr>\n",
       "    <tr>\n",
       "      <th>1</th>\n",
       "      <td>1</td>\n",
       "      <td>Thompson</td>\n",
       "      <td>CA</td>\n",
       "      <td>2022-02-11 17:26:33</td>\n",
       "      <td>55.74</td>\n",
       "      <td>-97.86</td>\n",
       "      <td>241.24</td>\n",
       "      <td>62</td>\n",
       "      <td>0</td>\n",
       "      <td>3.09</td>\n",
       "    </tr>\n",
       "    <tr>\n",
       "      <th>2</th>\n",
       "      <td>2</td>\n",
       "      <td>Sao Jose Da Coroa Grande</td>\n",
       "      <td>BR</td>\n",
       "      <td>2022-02-11 17:34:20</td>\n",
       "      <td>-8.90</td>\n",
       "      <td>-35.15</td>\n",
       "      <td>303.24</td>\n",
       "      <td>56</td>\n",
       "      <td>74</td>\n",
       "      <td>6.15</td>\n",
       "    </tr>\n",
       "    <tr>\n",
       "      <th>3</th>\n",
       "      <td>3</td>\n",
       "      <td>Odesskoye</td>\n",
       "      <td>RU</td>\n",
       "      <td>2022-02-11 17:34:20</td>\n",
       "      <td>54.21</td>\n",
       "      <td>72.97</td>\n",
       "      <td>249.46</td>\n",
       "      <td>98</td>\n",
       "      <td>7</td>\n",
       "      <td>5.16</td>\n",
       "    </tr>\n",
       "    <tr>\n",
       "      <th>4</th>\n",
       "      <td>4</td>\n",
       "      <td>Port Lincoln</td>\n",
       "      <td>AU</td>\n",
       "      <td>2022-02-11 17:33:23</td>\n",
       "      <td>-34.73</td>\n",
       "      <td>135.87</td>\n",
       "      <td>290.37</td>\n",
       "      <td>78</td>\n",
       "      <td>0</td>\n",
       "      <td>6.19</td>\n",
       "    </tr>\n",
       "  </tbody>\n",
       "</table>\n",
       "</div>"
      ],
      "text/plain": [
       "   City_ID                      City Country                 Date    Lat  \\\n",
       "0        0                    Dikson      RU  2022-02-11 17:29:32  73.51   \n",
       "1        1                  Thompson      CA  2022-02-11 17:26:33  55.74   \n",
       "2        2  Sao Jose Da Coroa Grande      BR  2022-02-11 17:34:20  -8.90   \n",
       "3        3                 Odesskoye      RU  2022-02-11 17:34:20  54.21   \n",
       "4        4              Port Lincoln      AU  2022-02-11 17:33:23 -34.73   \n",
       "\n",
       "      Lng  Max Temp  Humidity  Cloudiness  Wind Speed  \n",
       "0   80.55    258.16        90         100       11.91  \n",
       "1  -97.86    241.24        62           0        3.09  \n",
       "2  -35.15    303.24        56          74        6.15  \n",
       "3   72.97    249.46        98           7        5.16  \n",
       "4  135.87    290.37        78           0        6.19  "
      ]
     },
     "execution_count": 26,
     "metadata": {},
     "output_type": "execute_result"
    }
   ],
   "source": [
    "# Store the CSV you saved created in part one into a DataFrame.\n",
    "city_data_df = pd.read_csv(\"cities.csv\")\n",
    "city_data_df[\"Lat\"] = round(city_data_df[\"Lat\"],2)\n",
    "city_data_df[\"Lng\"] = round(city_data_df[\"Lng\"],2)\n",
    "city_data_df.head()"
   ]
  },
  {
   "cell_type": "code",
   "execution_count": 3,
   "metadata": {},
   "outputs": [
    {
     "data": {
      "text/plain": [
       "City_ID         int64\n",
       "City           object\n",
       "Country        object\n",
       "Date           object\n",
       "Lat           float64\n",
       "Lng           float64\n",
       "Max Temp      float64\n",
       "Humidity        int64\n",
       "Cloudiness      int64\n",
       "Wind Speed    float64\n",
       "dtype: object"
      ]
     },
     "execution_count": 3,
     "metadata": {},
     "output_type": "execute_result"
    }
   ],
   "source": [
    "city_data_df.dtypes"
   ]
  },
  {
   "cell_type": "code",
   "execution_count": 11,
   "metadata": {},
   "outputs": [],
   "source": [
    "# Configure gmaps to use your Google API key.\n",
    "gmaps.configure(api_key=g_key)\n"
   ]
  },
  {
   "cell_type": "code",
   "execution_count": 12,
   "metadata": {},
   "outputs": [],
   "source": [
    "# Get the maximum temperature in theory for Farenheit/Celcius.\n",
    "max_temp = city_data_df[\"Max Temp\"]\n",
    "temps = []\n",
    "for temp in max_temp:\n",
    "    temps.append(max(temp, 0))"
   ]
  },
  {
   "cell_type": "code",
   "execution_count": 13,
   "metadata": {},
   "outputs": [
    {
     "data": {
      "application/vnd.jupyter.widget-view+json": {
       "model_id": "c6cbb45710cb4473946b4d3f161c0326",
       "version_major": 2,
       "version_minor": 0
      },
      "text/plain": [
       "Figure(layout=FigureLayout(height='420px'))"
      ]
     },
     "metadata": {},
     "output_type": "display_data"
    }
   ],
   "source": [
    "# Heatmap of temperature\n",
    "# Get the latitude and longitude.\n",
    "locations = city_data_df[[\"Lat\", \"Lng\"]]\n",
    "# Get the maximum temperature.\n",
    "max_temp = city_data_df[\"Max Temp\"]\n",
    "# Assign the figure variable.\n",
    "fig = gmaps.figure()\n",
    "# Assign the heatmap variable.\n",
    "heat_layer = gmaps.heatmap_layer(locations, weights=temps)\n",
    "# Add the heatmap layer.\n",
    "fig.add_layer(heat_layer)\n",
    "# Call the figure to plot the data.\n",
    "fig"
   ]
  },
  {
   "cell_type": "code",
   "execution_count": 14,
   "metadata": {},
   "outputs": [],
   "source": [
    "heat_layer = gmaps.heatmap_layer(locations, weights=max_temp)"
   ]
  },
  {
   "cell_type": "code",
   "execution_count": 15,
   "metadata": {},
   "outputs": [],
   "source": [
    "# Get the maximum temperature.\n",
    "max_temp = city_data_df[\"Max Temp\"]\n",
    "heat_layer = gmaps.heatmap_layer(locations, weights=[max(temp, 0) for temp in max_temp])\n",
    "temps = []\n",
    "for temp in max_temp:\n",
    "    temps.append(max(temp, 0))"
   ]
  },
  {
   "cell_type": "code",
   "execution_count": 18,
   "metadata": {},
   "outputs": [],
   "source": [
    "fig = gmaps.figure(center=(30.0, 31.0), zoom_level=1.5)"
   ]
  },
  {
   "cell_type": "code",
   "execution_count": 17,
   "metadata": {},
   "outputs": [
    {
     "data": {
      "application/vnd.jupyter.widget-view+json": {
       "model_id": "3709c9197f0c4f88ab3189578c4a78e6",
       "version_major": 2,
       "version_minor": 0
      },
      "text/plain": [
       "Figure(layout=FigureLayout(height='420px'))"
      ]
     },
     "metadata": {},
     "output_type": "display_data"
    }
   ],
   "source": [
    "# Heatmap of percent humidity\n",
    "locations = city_data_df[[\"Lat\", \"Lng\"]]\n",
    "humidity = city_data_df[\"Humidity\"]\n",
    "fig = gmaps.figure(center=(30.0, 31.0), zoom_level=1.5)\n",
    "heat_layer = gmaps.heatmap_layer(locations, weights=humidity, dissipating=False, max_intensity=300, point_radius=4)\n",
    "\n",
    "fig.add_layer(heat_layer)\n",
    "# Call the figure to plot the data.\n",
    "fig"
   ]
  },
  {
   "cell_type": "code",
   "execution_count": 20,
   "metadata": {},
   "outputs": [
    {
     "data": {
      "application/vnd.jupyter.widget-view+json": {
       "model_id": "8c1a7efc37224949a4e8e5d03aa1d6c0",
       "version_major": 2,
       "version_minor": 0
      },
      "text/plain": [
       "Figure(layout=FigureLayout(height='420px'))"
      ]
     },
     "metadata": {},
     "output_type": "display_data"
    }
   ],
   "source": [
    "# Heatmap of percent humidity\n",
    "locations = city_data_df[[\"Lat\", \"Lng\"]]\n",
    "humidity = city_data_df[\"Humidity\"]\n",
    "fig = gmaps.figure(center=(30.0, 31.0), zoom_level=1.5)\n",
    "heat_layer = gmaps.heatmap_layer(locations, weights=humidity, dissipating=False, max_intensity=300, point_radius=4)\n",
    "fig.add_layer(heat_layer)\n",
    "# Call the figure to plot the data.\n",
    "fig"
   ]
  },
  {
   "cell_type": "code",
   "execution_count": 22,
   "metadata": {},
   "outputs": [
    {
     "data": {
      "application/vnd.jupyter.widget-view+json": {
       "model_id": "447a92ed94d6428dbfee271955ac9b77",
       "version_major": 2,
       "version_minor": 0
      },
      "text/plain": [
       "Figure(layout=FigureLayout(height='420px'))"
      ]
     },
     "metadata": {},
     "output_type": "display_data"
    }
   ],
   "source": [
    "# Heatmap of percent cloudiness\n",
    "locations = city_data_df[[\"Lat\", \"Lng\"]]\n",
    "clouds = city_data_df[\"Cloudiness\"]\n",
    "fig = gmaps.figure(center=(30.0, 31.0), zoom_level=1.5)\n",
    "heat_layer = gmaps.heatmap_layer(locations, weights=clouds,\n",
    "dissipating=False, max_intensity=300, point_radius=4)\n",
    "\n",
    "fig.add_layer(heat_layer)\n",
    "# Call the figure to plot the data.\n",
    "\n",
    "fig"
   ]
  },
  {
   "cell_type": "code",
   "execution_count": 23,
   "metadata": {},
   "outputs": [
    {
     "data": {
      "application/vnd.jupyter.widget-view+json": {
       "model_id": "7ac2605234684af79366f6bb53723218",
       "version_major": 2,
       "version_minor": 0
      },
      "text/plain": [
       "Figure(layout=FigureLayout(height='420px'))"
      ]
     },
     "metadata": {},
     "output_type": "display_data"
    }
   ],
   "source": [
    "# Heatmap of percent wind speed\n",
    "locations = city_data_df[[\"Lat\", \"Lng\"]]\n",
    "wind = city_data_df[\"Wind Speed\"]\n",
    "fig = gmaps.figure(center=(30.0, 31.0), zoom_level=1.5)\n",
    "heat_layer = gmaps.heatmap_layer(locations, weights=wind,\n",
    "dissipating=False, max_intensity=300, point_radius=4)\n",
    "\n",
    "fig.add_layer(heat_layer)\n",
    "# Call the figure to plot the data.\n",
    "\n",
    "fig"
   ]
  },
  {
   "cell_type": "markdown",
   "metadata": {},
   "source": [
    "## Get Vacation Criteria"
   ]
  },
  {
   "cell_type": "code",
   "execution_count": 24,
   "metadata": {},
   "outputs": [
    {
     "name": "stdout",
     "output_type": "stream",
     "text": [
      "What is the minimum temperature you would like for your trip? 298\n",
      "What is the maximum temperature you would like for your trip? 320\n"
     ]
    }
   ],
   "source": [
    "# Ask the customer to add a minimum and maximum temperature value.\n",
    "min_temp = float(input(\"What is the minimum temperature (K) you would like for your trip? \"))\n",
    "max_temp = float(input(\"What is the maximum temperature (K) you would like for your trip? \"))"
   ]
  },
  {
   "cell_type": "code",
   "execution_count": 27,
   "metadata": {},
   "outputs": [
    {
     "data": {
      "text/html": [
       "<div>\n",
       "<style scoped>\n",
       "    .dataframe tbody tr th:only-of-type {\n",
       "        vertical-align: middle;\n",
       "    }\n",
       "\n",
       "    .dataframe tbody tr th {\n",
       "        vertical-align: top;\n",
       "    }\n",
       "\n",
       "    .dataframe thead th {\n",
       "        text-align: right;\n",
       "    }\n",
       "</style>\n",
       "<table border=\"1\" class=\"dataframe\">\n",
       "  <thead>\n",
       "    <tr style=\"text-align: right;\">\n",
       "      <th></th>\n",
       "      <th>City_ID</th>\n",
       "      <th>City</th>\n",
       "      <th>Country</th>\n",
       "      <th>Date</th>\n",
       "      <th>Lat</th>\n",
       "      <th>Lng</th>\n",
       "      <th>Max Temp</th>\n",
       "      <th>Humidity</th>\n",
       "      <th>Cloudiness</th>\n",
       "      <th>Wind Speed</th>\n",
       "    </tr>\n",
       "  </thead>\n",
       "  <tbody>\n",
       "    <tr>\n",
       "      <th>2</th>\n",
       "      <td>2</td>\n",
       "      <td>Sao Jose Da Coroa Grande</td>\n",
       "      <td>BR</td>\n",
       "      <td>2022-02-11 17:34:20</td>\n",
       "      <td>-8.90</td>\n",
       "      <td>-35.15</td>\n",
       "      <td>303.24</td>\n",
       "      <td>56</td>\n",
       "      <td>74</td>\n",
       "      <td>6.15</td>\n",
       "    </tr>\n",
       "    <tr>\n",
       "      <th>5</th>\n",
       "      <td>5</td>\n",
       "      <td>Amapa</td>\n",
       "      <td>BR</td>\n",
       "      <td>2022-02-11 17:34:21</td>\n",
       "      <td>1.00</td>\n",
       "      <td>-52.00</td>\n",
       "      <td>301.05</td>\n",
       "      <td>76</td>\n",
       "      <td>89</td>\n",
       "      <td>1.31</td>\n",
       "    </tr>\n",
       "    <tr>\n",
       "      <th>6</th>\n",
       "      <td>6</td>\n",
       "      <td>Vaini</td>\n",
       "      <td>TO</td>\n",
       "      <td>2022-02-11 17:34:21</td>\n",
       "      <td>-21.20</td>\n",
       "      <td>-175.20</td>\n",
       "      <td>299.24</td>\n",
       "      <td>94</td>\n",
       "      <td>40</td>\n",
       "      <td>2.06</td>\n",
       "    </tr>\n",
       "    <tr>\n",
       "      <th>10</th>\n",
       "      <td>10</td>\n",
       "      <td>Tautira</td>\n",
       "      <td>PF</td>\n",
       "      <td>2022-02-11 17:34:23</td>\n",
       "      <td>-17.73</td>\n",
       "      <td>-149.15</td>\n",
       "      <td>301.16</td>\n",
       "      <td>74</td>\n",
       "      <td>46</td>\n",
       "      <td>6.79</td>\n",
       "    </tr>\n",
       "    <tr>\n",
       "      <th>18</th>\n",
       "      <td>18</td>\n",
       "      <td>Rikitea</td>\n",
       "      <td>PF</td>\n",
       "      <td>2022-02-11 17:34:26</td>\n",
       "      <td>-23.12</td>\n",
       "      <td>-134.97</td>\n",
       "      <td>299.25</td>\n",
       "      <td>73</td>\n",
       "      <td>2</td>\n",
       "      <td>7.93</td>\n",
       "    </tr>\n",
       "    <tr>\n",
       "      <th>31</th>\n",
       "      <td>31</td>\n",
       "      <td>Bambous Virieux</td>\n",
       "      <td>MU</td>\n",
       "      <td>2022-02-11 17:33:11</td>\n",
       "      <td>-20.34</td>\n",
       "      <td>57.76</td>\n",
       "      <td>299.29</td>\n",
       "      <td>83</td>\n",
       "      <td>40</td>\n",
       "      <td>1.03</td>\n",
       "    </tr>\n",
       "    <tr>\n",
       "      <th>32</th>\n",
       "      <td>32</td>\n",
       "      <td>Nova Vicosa</td>\n",
       "      <td>BR</td>\n",
       "      <td>2022-02-11 17:34:31</td>\n",
       "      <td>-17.89</td>\n",
       "      <td>-39.37</td>\n",
       "      <td>301.93</td>\n",
       "      <td>63</td>\n",
       "      <td>36</td>\n",
       "      <td>4.44</td>\n",
       "    </tr>\n",
       "    <tr>\n",
       "      <th>33</th>\n",
       "      <td>33</td>\n",
       "      <td>Butaritari</td>\n",
       "      <td>KI</td>\n",
       "      <td>2022-02-11 17:34:31</td>\n",
       "      <td>3.07</td>\n",
       "      <td>172.79</td>\n",
       "      <td>300.27</td>\n",
       "      <td>80</td>\n",
       "      <td>73</td>\n",
       "      <td>7.40</td>\n",
       "    </tr>\n",
       "    <tr>\n",
       "      <th>35</th>\n",
       "      <td>35</td>\n",
       "      <td>Bonthe</td>\n",
       "      <td>SL</td>\n",
       "      <td>2022-02-11 17:34:32</td>\n",
       "      <td>7.53</td>\n",
       "      <td>-12.50</td>\n",
       "      <td>301.39</td>\n",
       "      <td>70</td>\n",
       "      <td>22</td>\n",
       "      <td>6.01</td>\n",
       "    </tr>\n",
       "    <tr>\n",
       "      <th>37</th>\n",
       "      <td>37</td>\n",
       "      <td>Saint-Philippe</td>\n",
       "      <td>RE</td>\n",
       "      <td>2022-02-11 17:34:32</td>\n",
       "      <td>-21.36</td>\n",
       "      <td>55.77</td>\n",
       "      <td>298.92</td>\n",
       "      <td>77</td>\n",
       "      <td>31</td>\n",
       "      <td>3.44</td>\n",
       "    </tr>\n",
       "  </tbody>\n",
       "</table>\n",
       "</div>"
      ],
      "text/plain": [
       "    City_ID                      City Country                 Date    Lat  \\\n",
       "2         2  Sao Jose Da Coroa Grande      BR  2022-02-11 17:34:20  -8.90   \n",
       "5         5                     Amapa      BR  2022-02-11 17:34:21   1.00   \n",
       "6         6                     Vaini      TO  2022-02-11 17:34:21 -21.20   \n",
       "10       10                   Tautira      PF  2022-02-11 17:34:23 -17.73   \n",
       "18       18                   Rikitea      PF  2022-02-11 17:34:26 -23.12   \n",
       "31       31           Bambous Virieux      MU  2022-02-11 17:33:11 -20.34   \n",
       "32       32               Nova Vicosa      BR  2022-02-11 17:34:31 -17.89   \n",
       "33       33                Butaritari      KI  2022-02-11 17:34:31   3.07   \n",
       "35       35                    Bonthe      SL  2022-02-11 17:34:32   7.53   \n",
       "37       37            Saint-Philippe      RE  2022-02-11 17:34:32 -21.36   \n",
       "\n",
       "       Lng  Max Temp  Humidity  Cloudiness  Wind Speed  \n",
       "2   -35.15    303.24        56          74        6.15  \n",
       "5   -52.00    301.05        76          89        1.31  \n",
       "6  -175.20    299.24        94          40        2.06  \n",
       "10 -149.15    301.16        74          46        6.79  \n",
       "18 -134.97    299.25        73           2        7.93  \n",
       "31   57.76    299.29        83          40        1.03  \n",
       "32  -39.37    301.93        63          36        4.44  \n",
       "33  172.79    300.27        80          73        7.40  \n",
       "35  -12.50    301.39        70          22        6.01  \n",
       "37   55.77    298.92        77          31        3.44  "
      ]
     },
     "execution_count": 27,
     "metadata": {},
     "output_type": "execute_result"
    }
   ],
   "source": [
    "# Filter the dataset to find the cities that fit the criteria.\n",
    "preferred_cities_df = city_data_df.loc[(city_data_df[\"Max Temp\"] <= max_temp) & \\\n",
    "                                       (city_data_df[\"Max Temp\"] >= min_temp)]\n",
    "preferred_cities_df.head(10)"
   ]
  },
  {
   "cell_type": "code",
   "execution_count": 28,
   "metadata": {},
   "outputs": [
    {
     "data": {
      "text/plain": [
       "City_ID       134\n",
       "City          134\n",
       "Country       134\n",
       "Date          134\n",
       "Lat           134\n",
       "Lng           134\n",
       "Max Temp      134\n",
       "Humidity      134\n",
       "Cloudiness    134\n",
       "Wind Speed    134\n",
       "dtype: int64"
      ]
     },
     "execution_count": 28,
     "metadata": {},
     "output_type": "execute_result"
    }
   ],
   "source": [
    "preferred_cities_df.count()"
   ]
  },
  {
   "cell_type": "code",
   "execution_count": 29,
   "metadata": {},
   "outputs": [
    {
     "data": {
      "text/html": [
       "<div>\n",
       "<style scoped>\n",
       "    .dataframe tbody tr th:only-of-type {\n",
       "        vertical-align: middle;\n",
       "    }\n",
       "\n",
       "    .dataframe tbody tr th {\n",
       "        vertical-align: top;\n",
       "    }\n",
       "\n",
       "    .dataframe thead th {\n",
       "        text-align: right;\n",
       "    }\n",
       "</style>\n",
       "<table border=\"1\" class=\"dataframe\">\n",
       "  <thead>\n",
       "    <tr style=\"text-align: right;\">\n",
       "      <th></th>\n",
       "      <th>City</th>\n",
       "      <th>Country</th>\n",
       "      <th>Max Temp</th>\n",
       "      <th>Lat</th>\n",
       "      <th>Lng</th>\n",
       "      <th>Hotel Name</th>\n",
       "    </tr>\n",
       "  </thead>\n",
       "  <tbody>\n",
       "    <tr>\n",
       "      <th>2</th>\n",
       "      <td>Sao Jose Da Coroa Grande</td>\n",
       "      <td>BR</td>\n",
       "      <td>303.24</td>\n",
       "      <td>-8.90</td>\n",
       "      <td>-35.15</td>\n",
       "      <td></td>\n",
       "    </tr>\n",
       "    <tr>\n",
       "      <th>5</th>\n",
       "      <td>Amapa</td>\n",
       "      <td>BR</td>\n",
       "      <td>301.05</td>\n",
       "      <td>1.00</td>\n",
       "      <td>-52.00</td>\n",
       "      <td></td>\n",
       "    </tr>\n",
       "    <tr>\n",
       "      <th>6</th>\n",
       "      <td>Vaini</td>\n",
       "      <td>TO</td>\n",
       "      <td>299.24</td>\n",
       "      <td>-21.20</td>\n",
       "      <td>-175.20</td>\n",
       "      <td></td>\n",
       "    </tr>\n",
       "    <tr>\n",
       "      <th>10</th>\n",
       "      <td>Tautira</td>\n",
       "      <td>PF</td>\n",
       "      <td>301.16</td>\n",
       "      <td>-17.73</td>\n",
       "      <td>-149.15</td>\n",
       "      <td></td>\n",
       "    </tr>\n",
       "    <tr>\n",
       "      <th>18</th>\n",
       "      <td>Rikitea</td>\n",
       "      <td>PF</td>\n",
       "      <td>299.25</td>\n",
       "      <td>-23.12</td>\n",
       "      <td>-134.97</td>\n",
       "      <td></td>\n",
       "    </tr>\n",
       "    <tr>\n",
       "      <th>31</th>\n",
       "      <td>Bambous Virieux</td>\n",
       "      <td>MU</td>\n",
       "      <td>299.29</td>\n",
       "      <td>-20.34</td>\n",
       "      <td>57.76</td>\n",
       "      <td></td>\n",
       "    </tr>\n",
       "    <tr>\n",
       "      <th>32</th>\n",
       "      <td>Nova Vicosa</td>\n",
       "      <td>BR</td>\n",
       "      <td>301.93</td>\n",
       "      <td>-17.89</td>\n",
       "      <td>-39.37</td>\n",
       "      <td></td>\n",
       "    </tr>\n",
       "    <tr>\n",
       "      <th>33</th>\n",
       "      <td>Butaritari</td>\n",
       "      <td>KI</td>\n",
       "      <td>300.27</td>\n",
       "      <td>3.07</td>\n",
       "      <td>172.79</td>\n",
       "      <td></td>\n",
       "    </tr>\n",
       "    <tr>\n",
       "      <th>35</th>\n",
       "      <td>Bonthe</td>\n",
       "      <td>SL</td>\n",
       "      <td>301.39</td>\n",
       "      <td>7.53</td>\n",
       "      <td>-12.50</td>\n",
       "      <td></td>\n",
       "    </tr>\n",
       "    <tr>\n",
       "      <th>37</th>\n",
       "      <td>Saint-Philippe</td>\n",
       "      <td>RE</td>\n",
       "      <td>298.92</td>\n",
       "      <td>-21.36</td>\n",
       "      <td>55.77</td>\n",
       "      <td></td>\n",
       "    </tr>\n",
       "  </tbody>\n",
       "</table>\n",
       "</div>"
      ],
      "text/plain": [
       "                        City Country  Max Temp    Lat     Lng Hotel Name\n",
       "2   Sao Jose Da Coroa Grande      BR    303.24  -8.90  -35.15           \n",
       "5                      Amapa      BR    301.05   1.00  -52.00           \n",
       "6                      Vaini      TO    299.24 -21.20 -175.20           \n",
       "10                   Tautira      PF    301.16 -17.73 -149.15           \n",
       "18                   Rikitea      PF    299.25 -23.12 -134.97           \n",
       "31           Bambous Virieux      MU    299.29 -20.34   57.76           \n",
       "32               Nova Vicosa      BR    301.93 -17.89  -39.37           \n",
       "33                Butaritari      KI    300.27   3.07  172.79           \n",
       "35                    Bonthe      SL    301.39   7.53  -12.50           \n",
       "37            Saint-Philippe      RE    298.92 -21.36   55.77           "
      ]
     },
     "execution_count": 29,
     "metadata": {},
     "output_type": "execute_result"
    }
   ],
   "source": [
    "# Create DataFrame called hotel_df to store hotel names along with city, country, max temp, and coordinates.\n",
    "hotel_df = preferred_cities_df[[\"City\", \"Country\", \"Max Temp\", \"Lat\", \"Lng\"]].copy()\n",
    "hotel_df[\"Hotel Name\"] = \"\"\n",
    "hotel_df.head(10)"
   ]
  },
  {
   "cell_type": "code",
   "execution_count": 37,
   "metadata": {},
   "outputs": [],
   "source": [
    "# Set parameters to search for a hotel.\n",
    "params = {\n",
    "    \"radius\": 5000,\n",
    "    \"type\": \"lodging\",\n",
    "    \"key\": g_key,\n",
    "    \"location\": \"\"\n",
    "}"
   ]
  },
  {
   "cell_type": "code",
   "execution_count": 45,
   "metadata": {},
   "outputs": [
    {
     "name": "stdout",
     "output_type": "stream",
     "text": [
      "\n"
     ]
    }
   ],
   "source": [
    "print(hotel_df.loc[index, \"Hotel Name\"])"
   ]
  },
  {
   "cell_type": "code",
   "execution_count": 63,
   "metadata": {},
   "outputs": [
    {
     "name": "stdout",
     "output_type": "stream",
     "text": [
      "Crôa Mares Hotel\n",
      "Hotel not found... skipping.\n",
      "Keleti Beach Resort\n",
      "Pension Oaoa\n",
      "People ThankYou\n",
      "Casa Tia Villa\n",
      "Lua Cheia\n",
      "Isles Sunset Lodge\n",
      "Bonthe Holiday Village\n",
      "Chambres d'hôte \"La Trinité\"\n",
      "CHACARA BAILLY\n",
      "Hospitality Carnarvon\n",
      "Hotel Campos Dourados.\n",
      "Hotel Conceição\n",
      "Divi Village Golf & Beach Resort\n",
      "Bora-Bora Pearl Beach Resort & Spa\n",
      "Villa Enata\n",
      "Hotel Arena Blanca\n",
      "Hotel GSA\n",
      "Hotel not found... skipping.\n",
      "Pousada dos Navegantes\n",
      "Finch Bay Galapagos Hotel\n",
      "Bils' Villa\n",
      "Pousada Novo Acre\n",
      "Hotel El Navegante\n",
      "CeBlue Villas & Beach Resort\n",
      "Las Cabinas Del Sueño\n",
      "INN NEW HORIZON\n",
      "SanBiz Lodge\n",
      "El rranchito michuacan de ocampos\n",
      "Hotel y restaurante \"El Diamante\"\n",
      "HOTEL BIASI - ITAQUI/RS\n",
      "Grafika Hotel Dan Restoran\n",
      "Pousada da wanda\n",
      "Atlantis Hotel\n",
      "Hotel La Cascada\n",
      "Hotel Xaguate\n",
      "Tiara Labuan Hotel\n",
      "Cititel Penang\n",
      "Ulkel Guest House\n",
      "Mercure Padang\n",
      "Hotel not found... skipping.\n",
      "สวนหนิง-อัศ\n",
      "Hotel not found... skipping.\n",
      "Requinte Hotel\n",
      "Seagulls Inn Namatani\n",
      "Hotel los Algarrobos\n",
      "Nuli Sapi\n",
      "Pousada Porto De Canoas\n",
      "Hotel not found... skipping.\n",
      "Hotel San Isidro Oficial\n",
      "Hotel not found... skipping.\n",
      "Gran Hotel Uruguay\n",
      "Scoop Guest House\n",
      "รับส่งพัสดุแฟลช\n",
      "Casa do Ian😎\n",
      "ibis Styles Karratha\n",
      "Hotel Pigalle\n",
      "Raybow International Hotel\n",
      "Nuevo Hotel Plaza\n",
      "Hotel Castelo\n",
      "Nusa Island Retreat\n",
      "Monserrate\n",
      "Bungalow 63\n",
      "El Medina\n",
      "Kudahuvadhoo Retreat\n",
      "Pondok Wisata Elim\n",
      "Adrian & Tonia\n",
      "Low Cost Housing Estate\n",
      "Hotel not found... skipping.\n",
      "Villa Park Hotel | Natal\n",
      "Shiringal Touristic Park\n",
      "Quality Suites Vila Velha\n",
      "Ungoofaaru Inn\n",
      "Meadows\n",
      "Haajy Guest House 1\n",
      "Casa Gualberto - Deysi\n",
      "Sheraton Nha Trang Hotel & Spa\n",
      "Hotel Encanto Real\n",
      "Halane Hotel and Restaurent\n",
      "Hotéis Caçulinha\n",
      "Holiday Inn Express Lompoc, an IHG Hotel\n",
      "La pousada\n",
      "Florence Hotel Ebolowa\n",
      "Elimtop\n",
      "Hospedaje Santa Ana\n",
      "Hotel São Vicente\n",
      "Hotel not found... skipping.\n",
      "Sunrise Attitude Hotel\n",
      "Loews Miami Beach Hotel\n",
      "Scuba Portobelo\n",
      "Uruna Bay Retreat\n",
      "hotel safari\n",
      "Santa Ana Travel Inn\n",
      "La Riviera Hotel Colonial\n",
      "Lindsey Hôtel\n",
      "Hotel Minas\n",
      "Aviador Hotel Boutique\n",
      "HOTEL ISABELA\n",
      "Hotel Festival Plaza Rosarito\n",
      "Sheraton Gambia Hotel Resort & Spa\n",
      "Radisson Grenada Beach Resort\n",
      "Le Gîte d’Iracoubo\n",
      "Maitai Lapita Village Huahine\n",
      "Panoramic Sea Resort\n",
      "Pousada Monte Carmelo O Pão\n",
      "\"Plantation Bed and Breakfast\n",
      "Bonifacio Lodge\n",
      "ALETHEIA Appartement Sinnamary\n",
      "Hotel Flamingo\n",
      "Shandrani Beachcomber Resort & Spa\n",
      "Hotel Posada Agua Escondida\n",
      "Hôtel Le Dronmi\n",
      "Veranda Paul et Virginie Hotel & Spa\n",
      "Roma Zee Guest House Annex\n",
      "Quinta Samay\n",
      "Departamento Costa Peñuelas\n",
      "Hotel not found... skipping.\n",
      "Hotel not found... skipping.\n",
      "ibis Styles Mt Isa Verona\n",
      "Riverside Country Club Modderrivier\n",
      "Gill Sleepover Guesthouse\n",
      "Whispering Bamboo Cove Resort\n",
      "Agan-Hotel\n",
      "Ha'apai Beach Resort\n",
      "Hotel Arrarte\n",
      "Welcomhotel By ITC Hotels, Bay Island, Port Blair\n",
      "JM Lodge\n",
      "Hotel Costa Marina\n",
      "Tanna Lodge\n",
      "Residence Elonda Ewo\n",
      "Wembley Park Hotel\n",
      "Oumou Elghoura\n",
      "Pousada e Hotel Litoral Sul\n"
     ]
    }
   ],
   "source": [
    "# Iterate through the DataFrame.\n",
    "for index, row in hotel_df.iterrows():\n",
    "    # Get the latitude and longitude.\n",
    "    lat = row[\"Lat\"]\n",
    "    lng = row[\"Lng\"]\n",
    "\n",
    "    # Add the latitude and longitude to location key for the params dictionary.\n",
    "    params[\"location\"] = f\"{lat},{lng}\"\n",
    "\n",
    "    # Use the search term: \"lodging\" and our latitude and longitude.\n",
    "    base_url = \"https://maps.googleapis.com/maps/api/place/nearbysearch/json\"\n",
    "    # Make request and get the JSON data from the search.\n",
    "    hotels = requests.get(base_url, params=params).json()\n",
    "    # Grab the first hotel from the results and store the name.\n",
    "    try:\n",
    "        hotel_df.loc[index, \"Hotel Name\"] = hotels[\"results\"][0][\"name\"]\n",
    "        print(hotel_df.loc[index, \"Hotel Name\"])\n",
    "    except (IndexError):\n",
    "        print(\"Hotel not found... skipping.\")"
   ]
  },
  {
   "cell_type": "code",
   "execution_count": 68,
   "metadata": {},
   "outputs": [],
   "source": [
    "info_box_template = \"\"\"\n",
    "<dl>\n",
    "<dt>Hotel Name</dt><dd>{Hotel Name}</dd>\n",
    "<dt>City</dt><dd>{City}</dd>\n",
    "<dt>Country</dt><dd>{Country}</dd>\n",
    "<dt>Max Temp</dt><dd>{Max Temp} K</dd>\n",
    "</dl>\n",
    "\"\"\"\n",
    "# Store the DataFrame Row.\n",
    "hotel_info = [info_box_template.format(**row) \n",
    "              for index, row in hotel_df.iterrows()]"
   ]
  },
  {
   "cell_type": "code",
   "execution_count": 69,
   "metadata": {},
   "outputs": [
    {
     "data": {
      "application/vnd.jupyter.widget-view+json": {
       "model_id": "04400f7f53564df48fd18ef4c2527a3e",
       "version_major": 2,
       "version_minor": 0
      },
      "text/plain": [
       "Figure(layout=FigureLayout(height='420px'))"
      ]
     },
     "metadata": {},
     "output_type": "display_data"
    }
   ],
   "source": [
    "# Add a heatmap of temperature for the vacation spots.\n",
    "locations = hotel_df[[\"Lat\", \"Lng\"]]\n",
    "max_temp = hotel_df[\"Max Temp\"]\n",
    "fig = gmaps.figure(center=(30.0, 31.0), zoom_level=1.5)\n",
    "heat_layer = gmaps.heatmap_layer(locations, weights=max_temp, \n",
    "                                 dissipating=False,\n",
    "             max_intensity=300, point_radius=4)\n",
    "marker_layer = gmaps.marker_layer(locations, info_box_content=hotel_info)\n",
    "fig.add_layer(heat_layer)\n",
    "fig.add_layer(marker_layer)\n",
    "# Call the figure to plot the data.\n",
    "fig"
   ]
  },
  {
   "cell_type": "code",
   "execution_count": 66,
   "metadata": {},
   "outputs": [],
   "source": []
  }
 ],
 "metadata": {
  "kernelspec": {
   "display_name": "Python 3",
   "language": "python",
   "name": "python3"
  },
  "language_info": {
   "codemirror_mode": {
    "name": "ipython",
    "version": 3
   },
   "file_extension": ".py",
   "mimetype": "text/x-python",
   "name": "python",
   "nbconvert_exporter": "python",
   "pygments_lexer": "ipython3",
   "version": "3.8.5"
  }
 },
 "nbformat": 4,
 "nbformat_minor": 4
}
